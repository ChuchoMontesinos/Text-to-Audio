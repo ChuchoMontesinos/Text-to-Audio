{
  "nbformat": 4,
  "nbformat_minor": 0,
  "metadata": {
    "colab": {
      "provenance": []
    },
    "kernelspec": {
      "name": "python3",
      "display_name": "Python 3"
    },
    "language_info": {
      "name": "python"
    }
  },
  "cells": [
    {
      "cell_type": "markdown",
      "source": [
        "**The libraries**"
      ],
      "metadata": {
        "id": "vDGKTR88YuS1"
      }
    },
    {
      "cell_type": "markdown",
      "source": [
        "* `pypdf` https://pypdf2.readthedocs.io/en/stable/\n",
        "* `gTTS` https://gtts.readthedocs.io/en/latest/"
      ],
      "metadata": {
        "id": "UF_TCAVroHTa"
      }
    },
    {
      "cell_type": "markdown",
      "source": [
        "# Getting the text from the PDF file"
      ],
      "metadata": {
        "id": "3fvdTPU7kW1_"
      }
    },
    {
      "cell_type": "markdown",
      "source": [
        "*Installing* `pypdf` *library and importing the PDF reader*"
      ],
      "metadata": {
        "id": "JGSr2_FPoHlZ"
      }
    },
    {
      "cell_type": "code",
      "execution_count": 1,
      "metadata": {
        "id": "Of2qrY_ZnmOr",
        "colab": {
          "base_uri": "https://localhost:8080/"
        },
        "outputId": "5cf099d6-eda9-4ad2-9942-478acce332cd"
      },
      "outputs": [
        {
          "output_type": "stream",
          "name": "stdout",
          "text": [
            "Collecting pypdf\n",
            "  Downloading pypdf-3.17.0-py3-none-any.whl (277 kB)\n",
            "\u001b[?25l     \u001b[90m━━━━━━━━━━━━━━━━━━━━━━━━━━━━━━━━━━━━━━━━\u001b[0m \u001b[32m0.0/277.4 kB\u001b[0m \u001b[31m?\u001b[0m eta \u001b[36m-:--:--\u001b[0m\r\u001b[2K     \u001b[91m━━━━━━━━━━━━━━━━\u001b[0m\u001b[90m╺\u001b[0m\u001b[90m━━━━━━━━━━━━━━━━━━━━━━━\u001b[0m \u001b[32m112.6/277.4 kB\u001b[0m \u001b[31m3.3 MB/s\u001b[0m eta \u001b[36m0:00:01\u001b[0m\r\u001b[2K     \u001b[90m━━━━━━━━━━━━━━━━━━━━━━━━━━━━━━━━━━━━━━━━\u001b[0m \u001b[32m277.4/277.4 kB\u001b[0m \u001b[31m5.0 MB/s\u001b[0m eta \u001b[36m0:00:00\u001b[0m\n",
            "\u001b[?25hInstalling collected packages: pypdf\n",
            "Successfully installed pypdf-3.17.0\n"
          ]
        }
      ],
      "source": [
        "! pip install pypdf\n",
        "\n",
        "from pypdf import PdfReader"
      ]
    },
    {
      "cell_type": "markdown",
      "source": [
        "*Getting the path of the file*"
      ],
      "metadata": {
        "id": "l2ol3ZLBXqru"
      }
    },
    {
      "cell_type": "code",
      "source": [
        "path=\"/content/drive/MyDrive/Colab Notebooks/Projects/Get text from PDF/My Document.pdf\""
      ],
      "metadata": {
        "id": "_WUNzHFpHb38"
      },
      "execution_count": 5,
      "outputs": []
    },
    {
      "cell_type": "markdown",
      "source": [
        "*The page*\n",
        "* It is the page in the PDF file"
      ],
      "metadata": {
        "id": "-jh_Po56Xy4s"
      }
    },
    {
      "cell_type": "code",
      "source": [
        "pageNumber=1"
      ],
      "metadata": {
        "id": "C-6AKMJNX0Mn"
      },
      "execution_count": 6,
      "outputs": []
    },
    {
      "cell_type": "markdown",
      "source": [
        "*Importing the PDF file and reading the* $n$ *page*"
      ],
      "metadata": {
        "id": "xxlVKoIzHQuJ"
      }
    },
    {
      "cell_type": "code",
      "source": [
        "with open(path,\"rb\") as pdf_file:\n",
        "  reader=PdfReader(pdf_file)\n",
        "\n",
        "  # Page\n",
        "  page = reader.pages[pageNumber-1]\n",
        "\n",
        "  # Extract the text content from the page\n",
        "  text = page.extract_text()"
      ],
      "metadata": {
        "id": "thAYGpTzXHsU"
      },
      "execution_count": 7,
      "outputs": []
    },
    {
      "cell_type": "markdown",
      "source": [
        "*Showing the content of the page*"
      ],
      "metadata": {
        "id": "nNcSdhsaYOZK"
      }
    },
    {
      "cell_type": "code",
      "source": [
        "print(text)"
      ],
      "metadata": {
        "colab": {
          "base_uri": "https://localhost:8080/"
        },
        "id": "P7dshhHqYQY4",
        "outputId": "26dce2de-29ee-46d5-ef63-3ab22d722064"
      },
      "execution_count": 8,
      "outputs": [
        {
          "output_type": "stream",
          "name": "stdout",
          "text": [
            "My Document\n",
            "1My Document\n",
            "As online purchasing becomes more popular , users trust more information published on  \n",
            "social media than on advertisement content. Opinion mining is often applied to social  \n",
            "media, and opinion target extraction is one of its main sub-tasks. In this paper , we focus  \n",
            "on recognizing target entities related to electronic products. W e propose a method  \n",
            "called ProdSpot, for training a named entity extractor to identify product mentions in  \n",
            "user text based on the distant supervision paradigm. ProdSpot relies only on an  \n",
            "unlabeled set of product of fer titles and a list of product brand names. Initially , surface  \n",
            "forms are identified from product titles. Given a collection of user posts, our method  \n",
            "selects sentences that contain at least one surface form to be automatically labeled. A \n",
            "cluster-based filtering strategy is applied to detect and filter out possible mislabelled  \n",
            "sentences. Finally , data augmentation is used to produce more general and diverse  \n",
            "training. The set of augmented sentences constitutes the training set to train a  \n",
            "recognition model. Experiments demonstrate that the training data automatically  \n",
            "generated yields results similar to those achieved by a supervised model. Our best  \n",
            "result for precision is only 9% lower than a supervised model, while our recall level is  \n",
            "higher by approximately 7% in two distinct product categories. Compared to a state-of-\n",
            "the-art supervised method specifically designed to recognize mobile phone names, our  \n",
            "method achieved competitive results with F1 values only 4% lower while not requiring  \n",
            "user supervision. Our filtering and data augmentation steps directly influence these  \n",
            "results.\n"
          ]
        }
      ]
    },
    {
      "cell_type": "markdown",
      "source": [
        "# Audio from the text"
      ],
      "metadata": {
        "id": "FZtF0_p8rZdb"
      }
    },
    {
      "cell_type": "markdown",
      "source": [
        "*Installing the libraries and importing*"
      ],
      "metadata": {
        "id": "e862sgTArwdy"
      }
    },
    {
      "cell_type": "code",
      "source": [
        "! pip install gTTS\n",
        "\n",
        "from gtts import gTTS"
      ],
      "metadata": {
        "colab": {
          "base_uri": "https://localhost:8080/"
        },
        "id": "wuG7m9XDwcwd",
        "outputId": "f81d540b-c2d6-48ff-b338-1cd6ae4cfeae"
      },
      "execution_count": 9,
      "outputs": [
        {
          "output_type": "stream",
          "name": "stdout",
          "text": [
            "Collecting gTTS\n",
            "  Downloading gTTS-2.4.0-py3-none-any.whl (29 kB)\n",
            "Requirement already satisfied: requests<3,>=2.27 in /usr/local/lib/python3.10/dist-packages (from gTTS) (2.31.0)\n",
            "Requirement already satisfied: click<8.2,>=7.1 in /usr/local/lib/python3.10/dist-packages (from gTTS) (8.1.7)\n",
            "Requirement already satisfied: charset-normalizer<4,>=2 in /usr/local/lib/python3.10/dist-packages (from requests<3,>=2.27->gTTS) (3.3.2)\n",
            "Requirement already satisfied: idna<4,>=2.5 in /usr/local/lib/python3.10/dist-packages (from requests<3,>=2.27->gTTS) (3.4)\n",
            "Requirement already satisfied: urllib3<3,>=1.21.1 in /usr/local/lib/python3.10/dist-packages (from requests<3,>=2.27->gTTS) (2.0.7)\n",
            "Requirement already satisfied: certifi>=2017.4.17 in /usr/local/lib/python3.10/dist-packages (from requests<3,>=2.27->gTTS) (2023.7.22)\n",
            "Installing collected packages: gTTS\n",
            "Successfully installed gTTS-2.4.0\n"
          ]
        }
      ]
    },
    {
      "cell_type": "markdown",
      "source": [
        "*Turning into audio and saving it*"
      ],
      "metadata": {
        "id": "v0CLYsChtEaH"
      }
    },
    {
      "cell_type": "code",
      "source": [
        "tts = gTTS(text)\n",
        "tts.save(\"texto_a_audio.mp3\")"
      ],
      "metadata": {
        "id": "AJMyq0Zc0Cu4"
      },
      "execution_count": 10,
      "outputs": []
    }
  ]
}